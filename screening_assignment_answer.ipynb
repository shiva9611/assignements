{
 "cells": [
  {
   "cell_type": "code",
   "execution_count": 1,
   "id": "1def8b47",
   "metadata": {},
   "outputs": [],
   "source": [
    "##Q1\n",
    "def file_content_replacer(filename):\n",
    "    with open(filename,'r+') as f:\n",
    "        content=f.read()\n",
    "        print(f'Before replacing: {content}')\n",
    "        content=content.replace('placement','screening')\n",
    "        f.seek(0)\n",
    "        print(f'After replacing: {content}')\n",
    "        f.write(content)\n",
    "#         f.truncate()#We may or may not use this is not an issue\n",
    "      "
   ]
  },
  {
   "cell_type": "code",
   "execution_count": 2,
   "id": "54df067c",
   "metadata": {},
   "outputs": [
    {
     "name": "stdout",
     "output_type": "stream",
     "text": [
      "Before replacing: This is a placement assignment\n",
      "After replacing: This is a screening assignment\n"
     ]
    }
   ],
   "source": [
    "file_content_replacer('example.txt')"
   ]
  },
  {
   "cell_type": "code",
   "execution_count": 3,
   "id": "98052115",
   "metadata": {},
   "outputs": [],
   "source": [
    "##Q2 Abstract class\n",
    "class Animal:\n",
    "    def __init__(self,name):\n",
    "        self.name = name\n",
    "    \n",
    "    def walk(self):\n",
    "        pass\n",
    "    \n",
    "    def sound(self):\n",
    "        pass\n",
    "    \n",
    "class Human(Animal):\n",
    "    def __init__(self,name):\n",
    "        super().__init__(name)\n",
    "    \n",
    "    def walk(self):\n",
    "        print('I walk with the 2 legs')\n",
    "        \n",
    "    def sound(self):\n",
    "        print('I speak')"
   ]
  },
  {
   "cell_type": "code",
   "execution_count": 4,
   "id": "5464af64",
   "metadata": {},
   "outputs": [],
   "source": [
    "shiva=Human('shiva')"
   ]
  },
  {
   "cell_type": "code",
   "execution_count": 5,
   "id": "54e1cc4a",
   "metadata": {},
   "outputs": [
    {
     "name": "stdout",
     "output_type": "stream",
     "text": [
      "I walk with the 2 legs\n",
      "shiva\n",
      "I speak\n"
     ]
    }
   ],
   "source": [
    "shiva.walk()\n",
    "print(shiva.name)\n",
    "shiva.sound()"
   ]
  },
  {
   "cell_type": "code",
   "execution_count": 6,
   "id": "08e73518",
   "metadata": {},
   "outputs": [],
   "source": [
    "#Q2 Multiple Inheritance\n",
    "class Vegiterian:\n",
    "    def eat(self):\n",
    "        print('I eat only veg')\n",
    "        \n",
    "    def behaviour(self):\n",
    "        print('I am kind')\n",
    "        \n",
    "class Non_vegiterian:\n",
    "    def eat(self):\n",
    "        print('I eat only non veg')\n",
    "    \n",
    "    def behaviour(self):\n",
    "        print(\"I am not kind\")\n",
    "    \n",
    "    def favourite(self):\n",
    "        print('I love chicken')\n",
    "        \n",
    "class Human_being(Vegiterian,Non_vegiterian):\n",
    "    def eat(self):\n",
    "        print('I eat both')"
   ]
  },
  {
   "cell_type": "code",
   "execution_count": 7,
   "id": "e94196ff",
   "metadata": {},
   "outputs": [],
   "source": [
    "shiva=Human_being()"
   ]
  },
  {
   "cell_type": "code",
   "execution_count": 8,
   "id": "545f50e1",
   "metadata": {},
   "outputs": [
    {
     "name": "stdout",
     "output_type": "stream",
     "text": [
      "I eat both\n"
     ]
    }
   ],
   "source": [
    "shiva.eat()"
   ]
  },
  {
   "cell_type": "code",
   "execution_count": 9,
   "id": "11265bf5",
   "metadata": {},
   "outputs": [
    {
     "name": "stdout",
     "output_type": "stream",
     "text": [
      "I am kind\n"
     ]
    }
   ],
   "source": [
    "#Inherited from veg class\n",
    "shiva.behaviour()"
   ]
  },
  {
   "cell_type": "code",
   "execution_count": 10,
   "id": "f1b8337f",
   "metadata": {},
   "outputs": [
    {
     "name": "stdout",
     "output_type": "stream",
     "text": [
      "I love chicken\n"
     ]
    }
   ],
   "source": [
    "##In herited from Non_veg class\n",
    "shiva.favourite()"
   ]
  },
  {
   "cell_type": "code",
   "execution_count": 11,
   "id": "6f24bc3f",
   "metadata": {},
   "outputs": [],
   "source": [
    "##Q2 decorators:\n",
    "\n",
    "def lower_case(func):\n",
    "    def wrapper(*args,**kwargs):\n",
    "        result=func(*args,**kwargs)\n",
    "        return result.lower()\n",
    "    return wrapper\n",
    "    "
   ]
  },
  {
   "cell_type": "code",
   "execution_count": 12,
   "id": "66d7fa08",
   "metadata": {},
   "outputs": [],
   "source": [
    "@lower_case\n",
    "def concat(string1,string2):\n",
    "    return string1+string2"
   ]
  },
  {
   "cell_type": "code",
   "execution_count": 13,
   "id": "ee3f8752",
   "metadata": {},
   "outputs": [],
   "source": [
    "@lower_case\n",
    "def alternate_string(string):\n",
    "    return string[::2]"
   ]
  },
  {
   "cell_type": "code",
   "execution_count": 14,
   "id": "b8935282",
   "metadata": {},
   "outputs": [
    {
     "data": {
      "text/plain": [
       "'today is sunday'"
      ]
     },
     "execution_count": 14,
     "metadata": {},
     "output_type": "execute_result"
    }
   ],
   "source": [
    "concat('Today is ','Sunday')"
   ]
  },
  {
   "cell_type": "code",
   "execution_count": 15,
   "id": "30af0463",
   "metadata": {},
   "outputs": [
    {
     "data": {
      "text/plain": [
       "'ia nkr'"
      ]
     },
     "execution_count": 15,
     "metadata": {},
     "output_type": "execute_result"
    }
   ],
   "source": [
    "alternate_string('I am in Kar')"
   ]
  },
  {
   "cell_type": "code",
   "execution_count": null,
   "id": "5d7b652f",
   "metadata": {},
   "outputs": [],
   "source": []
  }
 ],
 "metadata": {
  "kernelspec": {
   "display_name": "Python 3 (ipykernel)",
   "language": "python",
   "name": "python3"
  },
  "language_info": {
   "codemirror_mode": {
    "name": "ipython",
    "version": 3
   },
   "file_extension": ".py",
   "mimetype": "text/x-python",
   "name": "python",
   "nbconvert_exporter": "python",
   "pygments_lexer": "ipython3",
   "version": "3.9.7"
  }
 },
 "nbformat": 4,
 "nbformat_minor": 5
}
